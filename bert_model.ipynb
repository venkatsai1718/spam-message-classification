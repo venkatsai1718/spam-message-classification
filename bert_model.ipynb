{
 "cells": [
  {
   "cell_type": "code",
   "execution_count": 72,
   "id": "75f94b2c",
   "metadata": {},
   "outputs": [],
   "source": [
    "import numpy as np\n",
    "import pandas as pd\n",
    "import nltk"
   ]
  },
  {
   "cell_type": "code",
   "execution_count": 73,
   "id": "162992f4",
   "metadata": {},
   "outputs": [
    {
     "data": {
      "text/html": [
       "<div>\n",
       "<style scoped>\n",
       "    .dataframe tbody tr th:only-of-type {\n",
       "        vertical-align: middle;\n",
       "    }\n",
       "\n",
       "    .dataframe tbody tr th {\n",
       "        vertical-align: top;\n",
       "    }\n",
       "\n",
       "    .dataframe thead th {\n",
       "        text-align: right;\n",
       "    }\n",
       "</style>\n",
       "<table border=\"1\" class=\"dataframe\">\n",
       "  <thead>\n",
       "    <tr style=\"text-align: right;\">\n",
       "      <th></th>\n",
       "      <th>v1</th>\n",
       "      <th>v2</th>\n",
       "      <th>Unnamed: 2</th>\n",
       "      <th>Unnamed: 3</th>\n",
       "      <th>Unnamed: 4</th>\n",
       "    </tr>\n",
       "  </thead>\n",
       "  <tbody>\n",
       "    <tr>\n",
       "      <th>0</th>\n",
       "      <td>ham</td>\n",
       "      <td>Go until jurong point, crazy.. Available only ...</td>\n",
       "      <td>NaN</td>\n",
       "      <td>NaN</td>\n",
       "      <td>NaN</td>\n",
       "    </tr>\n",
       "    <tr>\n",
       "      <th>1</th>\n",
       "      <td>ham</td>\n",
       "      <td>Ok lar... Joking wif u oni...</td>\n",
       "      <td>NaN</td>\n",
       "      <td>NaN</td>\n",
       "      <td>NaN</td>\n",
       "    </tr>\n",
       "    <tr>\n",
       "      <th>2</th>\n",
       "      <td>spam</td>\n",
       "      <td>Free entry in 2 a wkly comp to win FA Cup fina...</td>\n",
       "      <td>NaN</td>\n",
       "      <td>NaN</td>\n",
       "      <td>NaN</td>\n",
       "    </tr>\n",
       "    <tr>\n",
       "      <th>3</th>\n",
       "      <td>ham</td>\n",
       "      <td>U dun say so early hor... U c already then say...</td>\n",
       "      <td>NaN</td>\n",
       "      <td>NaN</td>\n",
       "      <td>NaN</td>\n",
       "    </tr>\n",
       "    <tr>\n",
       "      <th>4</th>\n",
       "      <td>ham</td>\n",
       "      <td>Nah I don't think he goes to usf, he lives aro...</td>\n",
       "      <td>NaN</td>\n",
       "      <td>NaN</td>\n",
       "      <td>NaN</td>\n",
       "    </tr>\n",
       "  </tbody>\n",
       "</table>\n",
       "</div>"
      ],
      "text/plain": [
       "     v1                                                 v2 Unnamed: 2  \\\n",
       "0   ham  Go until jurong point, crazy.. Available only ...        NaN   \n",
       "1   ham                      Ok lar... Joking wif u oni...        NaN   \n",
       "2  spam  Free entry in 2 a wkly comp to win FA Cup fina...        NaN   \n",
       "3   ham  U dun say so early hor... U c already then say...        NaN   \n",
       "4   ham  Nah I don't think he goes to usf, he lives aro...        NaN   \n",
       "\n",
       "  Unnamed: 3 Unnamed: 4  \n",
       "0        NaN        NaN  \n",
       "1        NaN        NaN  \n",
       "2        NaN        NaN  \n",
       "3        NaN        NaN  \n",
       "4        NaN        NaN  "
      ]
     },
     "execution_count": 73,
     "metadata": {},
     "output_type": "execute_result"
    }
   ],
   "source": [
    "dataset = pd.read_csv('dataset/spam.csv', encoding='latin-1')\n",
    "dataset.head()"
   ]
  },
  {
   "cell_type": "code",
   "execution_count": 74,
   "id": "0f9bb468",
   "metadata": {},
   "outputs": [
    {
     "data": {
      "text/plain": [
       "(5572, 5)"
      ]
     },
     "execution_count": 74,
     "metadata": {},
     "output_type": "execute_result"
    }
   ],
   "source": [
    "dataset.shape"
   ]
  },
  {
   "cell_type": "code",
   "execution_count": 75,
   "id": "349c15db",
   "metadata": {},
   "outputs": [
    {
     "data": {
      "text/plain": [
       "v1               0\n",
       "v2               0\n",
       "Unnamed: 2    5522\n",
       "Unnamed: 3    5560\n",
       "Unnamed: 4    5566\n",
       "dtype: int64"
      ]
     },
     "execution_count": 75,
     "metadata": {},
     "output_type": "execute_result"
    }
   ],
   "source": [
    "dataset.isnull().sum()"
   ]
  },
  {
   "cell_type": "code",
   "execution_count": 76,
   "id": "52f52d70",
   "metadata": {},
   "outputs": [],
   "source": [
    "drop_columns = ['Unnamed: 2', 'Unnamed: 3', 'Unnamed: 4']\n",
    "dataset.drop(columns=drop_columns, inplace=True)"
   ]
  },
  {
   "cell_type": "code",
   "execution_count": 77,
   "id": "e3a776e7",
   "metadata": {},
   "outputs": [],
   "source": [
    "dataset.rename(columns={'v1':'label', 'v2': 'text'}, inplace=True)"
   ]
  },
  {
   "cell_type": "code",
   "execution_count": 78,
   "id": "60d710ff",
   "metadata": {},
   "outputs": [
    {
     "data": {
      "text/html": [
       "<div>\n",
       "<style scoped>\n",
       "    .dataframe tbody tr th:only-of-type {\n",
       "        vertical-align: middle;\n",
       "    }\n",
       "\n",
       "    .dataframe tbody tr th {\n",
       "        vertical-align: top;\n",
       "    }\n",
       "\n",
       "    .dataframe thead th {\n",
       "        text-align: right;\n",
       "    }\n",
       "</style>\n",
       "<table border=\"1\" class=\"dataframe\">\n",
       "  <thead>\n",
       "    <tr style=\"text-align: right;\">\n",
       "      <th></th>\n",
       "      <th>label</th>\n",
       "      <th>text</th>\n",
       "    </tr>\n",
       "  </thead>\n",
       "  <tbody>\n",
       "    <tr>\n",
       "      <th>0</th>\n",
       "      <td>0</td>\n",
       "      <td>Go until jurong point, crazy.. Available only ...</td>\n",
       "    </tr>\n",
       "    <tr>\n",
       "      <th>1</th>\n",
       "      <td>0</td>\n",
       "      <td>Ok lar... Joking wif u oni...</td>\n",
       "    </tr>\n",
       "    <tr>\n",
       "      <th>2</th>\n",
       "      <td>1</td>\n",
       "      <td>Free entry in 2 a wkly comp to win FA Cup fina...</td>\n",
       "    </tr>\n",
       "    <tr>\n",
       "      <th>3</th>\n",
       "      <td>0</td>\n",
       "      <td>U dun say so early hor... U c already then say...</td>\n",
       "    </tr>\n",
       "    <tr>\n",
       "      <th>4</th>\n",
       "      <td>0</td>\n",
       "      <td>Nah I don't think he goes to usf, he lives aro...</td>\n",
       "    </tr>\n",
       "  </tbody>\n",
       "</table>\n",
       "</div>"
      ],
      "text/plain": [
       "   label                                               text\n",
       "0      0  Go until jurong point, crazy.. Available only ...\n",
       "1      0                      Ok lar... Joking wif u oni...\n",
       "2      1  Free entry in 2 a wkly comp to win FA Cup fina...\n",
       "3      0  U dun say so early hor... U c already then say...\n",
       "4      0  Nah I don't think he goes to usf, he lives aro..."
      ]
     },
     "execution_count": 78,
     "metadata": {},
     "output_type": "execute_result"
    }
   ],
   "source": [
    "dataset['label'] = dataset['label'].apply(lambda x: 0 if x == 'ham' else 1)\n",
    "dataset.head()"
   ]
  },
  {
   "cell_type": "code",
   "execution_count": 79,
   "id": "e3c2fd77",
   "metadata": {},
   "outputs": [
    {
     "data": {
      "text/plain": [
       "403"
      ]
     },
     "execution_count": 79,
     "metadata": {},
     "output_type": "execute_result"
    }
   ],
   "source": [
    "dataset.duplicated().sum()"
   ]
  },
  {
   "cell_type": "code",
   "execution_count": 80,
   "id": "7ec51fe6",
   "metadata": {},
   "outputs": [
    {
     "data": {
      "text/plain": [
       "(5169, 2)"
      ]
     },
     "execution_count": 80,
     "metadata": {},
     "output_type": "execute_result"
    }
   ],
   "source": [
    "dataset = dataset.drop_duplicates(keep='first')\n",
    "dataset.shape"
   ]
  },
  {
   "cell_type": "code",
   "execution_count": 81,
   "metadata": {},
   "outputs": [
    {
     "data": {
      "text/plain": [
       "label\n",
       "0    4516\n",
       "1     653\n",
       "Name: count, dtype: int64"
      ]
     },
     "execution_count": 81,
     "metadata": {},
     "output_type": "execute_result"
    }
   ],
   "source": [
    "dataset['label'].value_counts()"
   ]
  },
  {
   "cell_type": "code",
   "execution_count": 82,
   "id": "5695b054",
   "metadata": {},
   "outputs": [],
   "source": [
    "dataset['num_characters'] = dataset['text'].apply(len)"
   ]
  },
  {
   "cell_type": "code",
   "execution_count": 83,
   "id": "5f8cdae7",
   "metadata": {},
   "outputs": [],
   "source": [
    "dataset['num_words'] = dataset['text'].apply(lambda x: len(nltk.word_tokenize(x)))"
   ]
  },
  {
   "cell_type": "code",
   "execution_count": 84,
   "id": "b8460913",
   "metadata": {},
   "outputs": [
    {
     "data": {
      "text/html": [
       "<div>\n",
       "<style scoped>\n",
       "    .dataframe tbody tr th:only-of-type {\n",
       "        vertical-align: middle;\n",
       "    }\n",
       "\n",
       "    .dataframe tbody tr th {\n",
       "        vertical-align: top;\n",
       "    }\n",
       "\n",
       "    .dataframe thead th {\n",
       "        text-align: right;\n",
       "    }\n",
       "</style>\n",
       "<table border=\"1\" class=\"dataframe\">\n",
       "  <thead>\n",
       "    <tr style=\"text-align: right;\">\n",
       "      <th></th>\n",
       "      <th>num_characters</th>\n",
       "      <th>num_words</th>\n",
       "    </tr>\n",
       "  </thead>\n",
       "  <tbody>\n",
       "    <tr>\n",
       "      <th>count</th>\n",
       "      <td>5169.000000</td>\n",
       "      <td>5169.000000</td>\n",
       "    </tr>\n",
       "    <tr>\n",
       "      <th>mean</th>\n",
       "      <td>78.977945</td>\n",
       "      <td>18.455794</td>\n",
       "    </tr>\n",
       "    <tr>\n",
       "      <th>std</th>\n",
       "      <td>58.236293</td>\n",
       "      <td>13.324758</td>\n",
       "    </tr>\n",
       "    <tr>\n",
       "      <th>min</th>\n",
       "      <td>2.000000</td>\n",
       "      <td>1.000000</td>\n",
       "    </tr>\n",
       "    <tr>\n",
       "      <th>25%</th>\n",
       "      <td>36.000000</td>\n",
       "      <td>9.000000</td>\n",
       "    </tr>\n",
       "    <tr>\n",
       "      <th>50%</th>\n",
       "      <td>60.000000</td>\n",
       "      <td>15.000000</td>\n",
       "    </tr>\n",
       "    <tr>\n",
       "      <th>75%</th>\n",
       "      <td>117.000000</td>\n",
       "      <td>26.000000</td>\n",
       "    </tr>\n",
       "    <tr>\n",
       "      <th>max</th>\n",
       "      <td>910.000000</td>\n",
       "      <td>220.000000</td>\n",
       "    </tr>\n",
       "  </tbody>\n",
       "</table>\n",
       "</div>"
      ],
      "text/plain": [
       "       num_characters    num_words\n",
       "count     5169.000000  5169.000000\n",
       "mean        78.977945    18.455794\n",
       "std         58.236293    13.324758\n",
       "min          2.000000     1.000000\n",
       "25%         36.000000     9.000000\n",
       "50%         60.000000    15.000000\n",
       "75%        117.000000    26.000000\n",
       "max        910.000000   220.000000"
      ]
     },
     "execution_count": 84,
     "metadata": {},
     "output_type": "execute_result"
    }
   ],
   "source": [
    "dataset[['num_characters', 'num_words']].describe()"
   ]
  },
  {
   "cell_type": "code",
   "execution_count": 85,
   "id": "f2dfb9e2",
   "metadata": {},
   "outputs": [
    {
     "data": {
      "text/html": [
       "<div>\n",
       "<style scoped>\n",
       "    .dataframe tbody tr th:only-of-type {\n",
       "        vertical-align: middle;\n",
       "    }\n",
       "\n",
       "    .dataframe tbody tr th {\n",
       "        vertical-align: top;\n",
       "    }\n",
       "\n",
       "    .dataframe thead th {\n",
       "        text-align: right;\n",
       "    }\n",
       "</style>\n",
       "<table border=\"1\" class=\"dataframe\">\n",
       "  <thead>\n",
       "    <tr style=\"text-align: right;\">\n",
       "      <th></th>\n",
       "      <th>label</th>\n",
       "      <th>text</th>\n",
       "      <th>num_characters</th>\n",
       "      <th>num_words</th>\n",
       "    </tr>\n",
       "  </thead>\n",
       "  <tbody>\n",
       "    <tr>\n",
       "      <th>0</th>\n",
       "      <td>0</td>\n",
       "      <td>Go until jurong point, crazy.. Available only ...</td>\n",
       "      <td>111</td>\n",
       "      <td>24</td>\n",
       "    </tr>\n",
       "    <tr>\n",
       "      <th>1</th>\n",
       "      <td>0</td>\n",
       "      <td>Ok lar... Joking wif u oni...</td>\n",
       "      <td>29</td>\n",
       "      <td>8</td>\n",
       "    </tr>\n",
       "    <tr>\n",
       "      <th>2</th>\n",
       "      <td>1</td>\n",
       "      <td>Free entry in 2 a wkly comp to win FA Cup fina...</td>\n",
       "      <td>155</td>\n",
       "      <td>37</td>\n",
       "    </tr>\n",
       "    <tr>\n",
       "      <th>3</th>\n",
       "      <td>0</td>\n",
       "      <td>U dun say so early hor... U c already then say...</td>\n",
       "      <td>49</td>\n",
       "      <td>13</td>\n",
       "    </tr>\n",
       "    <tr>\n",
       "      <th>4</th>\n",
       "      <td>0</td>\n",
       "      <td>Nah I don't think he goes to usf, he lives aro...</td>\n",
       "      <td>61</td>\n",
       "      <td>15</td>\n",
       "    </tr>\n",
       "  </tbody>\n",
       "</table>\n",
       "</div>"
      ],
      "text/plain": [
       "   label                                               text  num_characters  \\\n",
       "0      0  Go until jurong point, crazy.. Available only ...             111   \n",
       "1      0                      Ok lar... Joking wif u oni...              29   \n",
       "2      1  Free entry in 2 a wkly comp to win FA Cup fina...             155   \n",
       "3      0  U dun say so early hor... U c already then say...              49   \n",
       "4      0  Nah I don't think he goes to usf, he lives aro...              61   \n",
       "\n",
       "   num_words  \n",
       "0         24  \n",
       "1          8  \n",
       "2         37  \n",
       "3         13  \n",
       "4         15  "
      ]
     },
     "execution_count": 85,
     "metadata": {},
     "output_type": "execute_result"
    }
   ],
   "source": [
    "dataset.head()"
   ]
  },
  {
   "cell_type": "code",
   "execution_count": 86,
   "id": "2d858267",
   "metadata": {},
   "outputs": [],
   "source": [
    "import matplotlib.pyplot as plt\n",
    "import seaborn as sns\n",
    "\n",
    "def plot_sequence_word_counts(sequences):\n",
    "    word_counts = [len(sequence.split()) for sequence in sequences]\n",
    "\n",
    "    min_length_index = word_counts.index(min(word_counts))\n",
    "    max_length_index = word_counts.index(max(word_counts))\n",
    "\n",
    "    print(\"Sequence with minimum length:\", len(sequences[min_length_index]), \" - index: \", min_length_index)\n",
    "    print(\"Sequence with maximum length:\", len(sequences[max_length_index]), \" - index: \", max_length_index)\n",
    "    print(\"Sequence average length: \", sum(word_counts)/len(sequences))\n",
    "\n",
    "    sns.set(style=\"whitegrid\")\n",
    "    plt.figure(figsize=(10, 6))\n",
    "    sns.histplot(word_counts, bins=20, kde=False, color=\"skyblue\")\n",
    "    \n",
    "    plt.xlabel(\"Word Count\")\n",
    "    plt.ylabel(\"Frequency\")\n",
    "    plt.title(\"Histogram of Word Counts for Sequences\")\n",
    "    plt.show()"
   ]
  },
  {
   "cell_type": "code",
   "execution_count": 87,
   "id": "1ef92adf",
   "metadata": {},
   "outputs": [
    {
     "name": "stdout",
     "output_type": "stream",
     "text": [
      "Sequence with minimum length: 3  - index:  256\n",
      "Sequence with maximum length: 910  - index:  1059\n",
      "Sequence average length:  15.34068485200232\n"
     ]
    },
    {
     "data": {
      "image/png": "[encoded data removed]",
      "text/plain": [
       "<Figure size 1000x600 with 1 Axes>"
      ]
     },
     "metadata": {},
     "output_type": "display_data"
    }
   ],
   "source": [
    "plot_sequence_word_counts(dataset['text'].tolist())\n"
   ]
  },
  {
   "cell_type": "code",
   "execution_count": null,
   "id": "e9eed0a7",
   "metadata": {},
   "outputs": [],
   "source": [
    "import numpy as np\n",
    "import pandas as pd\n",
    "import os\n",
    "import nltk\n",
    "from tqdm import tqdm\n",
    "import tensorflow as tf\n",
    "from tensorflow.keras.layers import Input, Dense, Flatten\n",
    "from transformers import BertTokenizer, TFBertModel\n",
    "from gensim.utils import simple_preprocess\n",
    "from sklearn.metrics import accuracy_score, precision_score, recall_score\n",
    "from sklearn.utils.class_weight import compute_class_weight\n"
   ]
  },
  {
   "cell_type": "code",
   "execution_count": 89,
   "metadata": {},
   "outputs": [],
   "source": [
    "class BuildModel:\n",
    "    def __init__(self, raw_train, raw_test):\n",
    "        self.raw_train = raw_train\n",
    "        self.raw_test = raw_test\n",
    "        self.labels = ['Not SPAM', 'SPAM']\n",
    "        self.savepath = 'savedfiles'\n",
    "        \n",
    "        self.bert_dense_model = None\n",
    "        self.train_history = {}\n",
    "        \n",
    "        self.bert_tokenizer = None\n",
    "        self.bert_model = None\n",
    "        \n",
    "        self.model_name = 'bert-base-uncased'\n",
    "        self.EPOCHS = 10\n",
    "        self.MAX_SEQUENCE_LENGTH = 50\n",
    "        self.class_weights = None\n",
    "        \n",
    "        nltk.download('stopwords')\n",
    "        self.stop_words = set(nltk.corpus.stopwords.words('english'))\n",
    "        \n",
    "    def prepare_dataset(self):\n",
    "        print('Training Dataset -', self.raw_train['label'].value_counts())\n",
    "        self.X_train_raw = self.raw_train['text'].tolist()\n",
    "        y_train_raw = self.raw_train['label'].tolist()\n",
    "        \n",
    "        # One hot encoding\n",
    "        self.y_train_raw = [[0, 0] for _ in range(len(y_train_raw))]\n",
    "        for i, j in enumerate(y_train_raw):\n",
    "            self.y_train_raw[i][j] = 1\n",
    "        self.y_train_raw = np.array(self.y_train_raw, dtype=np.float32)\n",
    "        \n",
    "        print('Train data shape - ', self.raw_train.shape)\n",
    "        \n",
    "        print('Test Dataset -', self.raw_test['label'].value_counts())\n",
    "        self.X_test_raw = self.raw_test['text'].tolist()\n",
    "        y_test_raw = self.raw_test['label'].tolist()\n",
    "        \n",
    "        # One hot encoding\n",
    "        self.y_test_raw = [[0, 0] for _ in range(len(y_test_raw))]\n",
    "        for i, j in enumerate(y_test_raw):\n",
    "            self.y_test_raw[i][j] = 1\n",
    "        self.y_test_raw = np.array(self.y_test_raw, dtype=np.float32)\n",
    "        \n",
    "        # Compute class weights from integer labels\n",
    "        class_weights = compute_class_weight(\n",
    "            class_weight='balanced',\n",
    "            classes=np.array([0, 1]),\n",
    "            y=y_train_raw\n",
    "        )\n",
    "        self.class_weights = dict(enumerate(class_weights))\n",
    "        print(\"Class Weights - \", class_weights)\n",
    "        \n",
    "        print('Test data shape - ', self.raw_test.shape)\n",
    "        \n",
    "    def prepare_bert_tokens(self):\n",
    "        if not self.bert_model or not self.bert_tokenizer:\n",
    "            self.bert_model, self.bert_tokenizer = self.load_bert_model()\n",
    "            print(\"Loaded Bert Model and Tokenizer.\")\n",
    "        else:\n",
    "            print(\"Bert Model and Tokenizer already loaded.\")\n",
    "        \n",
    "        self.X_train_bert_tokens = self.get_bert_tokens(self.X_train_raw)\n",
    "        self.X_test_bert_tokens = self.get_bert_tokens(self.X_test_raw)\n",
    "        \n",
    "        print(\"Bert Tokens prepared\")\n",
    "        \n",
    "    def load_bert_model(self):\n",
    "        tokenizer = BertTokenizer.from_pretrained(self.model_name)\n",
    "        model = TFBertModel.from_pretrained(self.model_name)\n",
    "        model.trainable = False\n",
    "        \n",
    "        return model, tokenizer\n",
    "    \n",
    "    \n",
    "    def get_bert_tokens(self, texts):\n",
    "        texts = [self.seq_preprocess(seq) for seq in texts]\n",
    "        ct = len(texts)\n",
    "\n",
    "        input_ids = np.ones((ct, self.MAX_SEQUENCE_LENGTH), dtype='int32')\n",
    "        \n",
    "        # attntion mask tells BERT which tokens are real input and which are padding.\n",
    "        attention_mask = np.zeros((ct, self.MAX_SEQUENCE_LENGTH), dtype='int32')\n",
    "        token_type_ids = np.zeros((ct, self.MAX_SEQUENCE_LENGTH), dtype='int32')\n",
    "        \n",
    "        for k, text in tqdm(enumerate(texts), total = len(texts)):\n",
    "            # Tokenize\n",
    "            tok_text = self.bert_tokenizer.tokenize(text)\n",
    "            \n",
    "            # Truncate and convert tokens to numerical IDs\n",
    "            enc_text = self.bert_tokenizer.convert_tokens_to_ids(tok_text[:(self.MAX_SEQUENCE_LENGTH-2)])\n",
    "            \n",
    "            input_length = len(enc_text) + 2\n",
    "            input_length = input_length if input_length < self.MAX_SEQUENCE_LENGTH else self.MAX_SEQUENCE_LENGTH\n",
    "            \n",
    "            # Add tokens [CLS] and [SEP] at the begining and the end\n",
    "            input_ids[k, :input_length] = np.asarray([0] + enc_text + [2], dtype='int32')\n",
    "            \n",
    "            attention_mask[k, :input_length] = 1\n",
    "        \n",
    "        return {\n",
    "                'input_word_ids':tf.constant(input_ids),\n",
    "                'input_mask': tf.constant(attention_mask),\n",
    "                'input_type_ids': tf.constant(token_type_ids)\n",
    "            }\n",
    "        \n",
    "    def seq_preprocess(self, sentence):\n",
    "        processed_words = simple_preprocess(sentence)\n",
    "        processed_words = [word.lower() for word in processed_words if word.lower() not in self.stop_words]\n",
    "        \n",
    "        return ' '.join(processed_words)\n",
    "    \n",
    "    def train_dense_model(self, layers: int = 3, units: int = 200):\n",
    "        input_word_ids = tf.keras.Input(shape=(self.MAX_SEQUENCE_LENGTH,), dtype='int32', name='input_word_ids')\n",
    "        input_mask = tf.keras.Input(shape=(self.MAX_SEQUENCE_LENGTH,), dtype='int32', name='input_mask')\n",
    "        input_type_ids = tf.keras.Input(shape=(self.MAX_SEQUENCE_LENGTH,), dtype='int32', name='input_type_ids')\n",
    "        \n",
    "        x = self.bert_model.bert(input_word_ids, attention_mask=input_mask, token_type_ids=input_type_ids)\n",
    "        x = x[0]\n",
    "        \n",
    "        for _ in range(layers):\n",
    "            x = Dense(units, activation='relu')(x)\n",
    "        x = Flatten()(x)\n",
    "        x = Dense(2, activation='softmax')(x)\n",
    "        \n",
    "        self.bert_dense_model = tf.keras.models.Model(inputs=[input_word_ids, input_mask, input_type_ids], outputs=x)\n",
    "        \n",
    "        self.bert_dense_model.compile(loss='binary_crossentropy',\n",
    "                                        optimizer=tf.keras.optimizers.Adam(learning_rate=1e-4),\n",
    "                                        metrics=['accuracy'])\n",
    "        \n",
    "        print(\"Model compiled with summary ----\")\n",
    "        print(self.bert_dense_model.summary())\n",
    "        \n",
    "        self.train_history['bert_dense'] = self.bert_dense_model.fit(self.X_train_bert_tokens, self.y_train_raw, epochs=self.EPOCHS,     class_weight=self.class_weights)\n",
    "        \n",
    "    def evaluate_model(self, model):\n",
    "        try:\n",
    "            y_test = self.y_test_raw\n",
    "            y_pred = np.round(model.predict(self.X_test_bert_tokens))\n",
    "            \n",
    "            # Decode from one-hot to single class labels\n",
    "            # y_test_labels = np.argmax(self.y_test_raw, axis=1)\n",
    "            # y_pred_labels = np.argmax(y_pred, axis=1)\n",
    "            # print(y_test_labels[:10])\n",
    "            # print(y_pred_labels[:10])\n",
    "            \n",
    "            accuracy = accuracy_score(y_test[:, 0], y_pred[:, 0])\n",
    "            precision = precision_score(y_test[:, 0], y_pred[:, 0])\n",
    "            recall = recall_score(y_test[:, 0], y_pred[:, 0])\n",
    "                \n",
    "            print(\"Accuracy - \", accuracy)\n",
    "            print(\"Precision - \", precision)\n",
    "            print(\"Recall - \", recall)\n",
    "                \n",
    "        except Exception as e:\n",
    "            print(e)\n",
    "            \n",
    "    def predict(self, msg):\n",
    "        inputs = self.get_bert_tokens([msg])\n",
    "        y_pred = np.round(self.bert_dense_model.predict(inputs))\n",
    "        label_idx = np.argmax(y_pred, axis=1)[0]\n",
    "        \n",
    "        print(self.labels[label_idx])\n",
    "\n",
    "    \n",
    "    def save_files(self):\n",
    "        os.makedirs(self.savepath, exist_ok=True)\n",
    "        self.bert_dense_model.save(f'{self.savepath}/bert_dense_model.h5')\n",
    "        self.bert_tokenizer.save_pretrained(f'{self.savepath}/bert_tokenizer')\n",
    "        \n",
    "        print(f'Model and Tokenizer saved to {self.savepath}---')\n",
    "        "
   ]
  },
  {
   "cell_type": "code",
   "execution_count": 90,
   "id": "38c3726f",
   "metadata": {},
   "outputs": [],
   "source": [
    "dataset = dataset[['text', 'label']]\n",
    "from sklearn.model_selection import train_test_split\n",
    "\n",
    "train_df, test_df = train_test_split(dataset, test_size=0.2, random_state=42, stratify=dataset['label'])"
   ]
  },
  {
   "cell_type": "code",
   "execution_count": 91,
   "metadata": {},
   "outputs": [
    {
     "name": "stderr",
     "output_type": "stream",
     "text": [
      "[nltk_data] Downloading package stopwords to\n",
      "[nltk_data]     C:\\Users\\Dell\\AppData\\Roaming\\nltk_data...\n",
      "[nltk_data]   Package stopwords is already up-to-date!\n"
     ]
    }
   ],
   "source": [
    "model = BuildModel(train_df, test_df)"
   ]
  },
  {
   "cell_type": "code",
   "execution_count": 92,
   "metadata": {},
   "outputs": [
    {
     "name": "stdout",
     "output_type": "stream",
     "text": [
      "Training Dataset - label\n",
      "0    3613\n",
      "1     522\n",
      "Name: count, dtype: int64\n",
      "Train data shape -  (4135, 2)\n",
      "Test Dataset - label\n",
      "0    903\n",
      "1    131\n",
      "Name: count, dtype: int64\n",
      "Class Weights -  [0.57223914 3.96072797]\n",
      "Test data shape -  (1034, 2)\n"
     ]
    }
   ],
   "source": [
    "model.prepare_dataset()"
   ]
  },
  {
   "cell_type": "code",
   "execution_count": 93,
   "id": "08ae4185",
   "metadata": {},
   "outputs": [
    {
     "name": "stderr",
     "output_type": "stream",
     "text": [
      "e:\\DataScientist\\projects\\02-Message-Spam-Classification\\venv\\lib\\site-packages\\huggingface_hub\\file_download.py:945: FutureWarning: `resume_download` is deprecated and will be removed in version 1.0.0. Downloads always resume when possible. If you want to force a new download, use `force_download=True`.\n",
      "  warnings.warn(\n",
      "Some weights of the PyTorch model were not used when initializing the TF 2.0 model TFBertModel: ['cls.predictions.transform.LayerNorm.weight', 'cls.predictions.transform.dense.weight', 'cls.seq_relationship.bias', 'cls.seq_relationship.weight', 'cls.predictions.bias', 'cls.predictions.transform.LayerNorm.bias', 'cls.predictions.transform.dense.bias']\n",
      "- This IS expected if you are initializing TFBertModel from a PyTorch model trained on another task or with another architecture (e.g. initializing a TFBertForSequenceClassification model from a BertForPreTraining model).\n",
      "- This IS NOT expected if you are initializing TFBertModel from a PyTorch model that you expect to be exactly identical (e.g. initializing a TFBertForSequenceClassification model from a BertForSequenceClassification model).\n",
      "All the weights of TFBertModel were initialized from the PyTorch model.\n",
      "If your task is similar to the task the model of the checkpoint was trained on, you can already use TFBertModel for predictions without further training.\n"
     ]
    },
    {
     "name": "stdout",
     "output_type": "stream",
     "text": [
      "Loaded Bert Model and Tokenizer.\n"
     ]
    },
    {
     "name": "stderr",
     "output_type": "stream",
     "text": [
      "100%|██████████| 4135/4135 [00:02<00:00, 1942.26it/s]\n",
      "100%|██████████| 1034/1034 [00:00<00:00, 1982.76it/s]"
     ]
    },
    {
     "name": "stdout",
     "output_type": "stream",
     "text": [
      "Bert Tokens prepared\n",
      "CPU times: total: 19.3 s\n",
      "Wall time: 13.7 s\n"
     ]
    },
    {
     "name": "stderr",
     "output_type": "stream",
     "text": [
      "\n"
     ]
    }
   ],
   "source": [
    "%%time\n",
    "model.prepare_bert_tokens()"
   ]
  },
  {
   "cell_type": "code",
   "execution_count": 94,
   "id": "2aab80ee",
   "metadata": {},
   "outputs": [
    {
     "name": "stdout",
     "output_type": "stream",
     "text": [
      "Model compiled with summary ----\n",
      "Model: \"model_4\"\n",
      "__________________________________________________________________________________________________\n",
      " Layer (type)                   Output Shape         Param #     Connected to                     \n",
      "==================================================================================================\n",
      " input_word_ids (InputLayer)    [(None, 50)]         0           []                               \n",
      "                                                                                                  \n",
      " input_mask (InputLayer)        [(None, 50)]         0           []                               \n",
      "                                                                                                  \n",
      " input_type_ids (InputLayer)    [(None, 50)]         0           []                               \n",
      "                                                                                                  \n",
      " bert (TFBertMainLayer)         TFBaseModelOutputWi  109482240   ['input_word_ids[0][0]',         \n",
      "                                thPoolingAndCrossAt               'input_mask[0][0]',             \n",
      "                                tentions(last_hidde               'input_type_ids[0][0]']         \n",
      "                                n_state=(None, 50,                                                \n",
      "                                768),                                                             \n",
      "                                 pooler_output=(Non                                               \n",
      "                                e, 768),                                                          \n",
      "                                 past_key_values=No                                               \n",
      "                                ne, hidden_states=N                                               \n",
      "                                one, attentions=Non                                               \n",
      "                                e, cross_attentions                                               \n",
      "                                =None)                                                            \n",
      "                                                                                                  \n",
      " dense_16 (Dense)               (None, 50, 256)      196864      ['bert[0][0]']                   \n",
      "                                                                                                  \n",
      " dense_17 (Dense)               (None, 50, 256)      65792       ['dense_16[0][0]']               \n",
      "                                                                                                  \n",
      " dense_18 (Dense)               (None, 50, 256)      65792       ['dense_17[0][0]']               \n",
      "                                                                                                  \n",
      " flatten_4 (Flatten)            (None, 12800)        0           ['dense_18[0][0]']               \n",
      "                                                                                                  \n",
      " dense_19 (Dense)               (None, 2)            25602       ['flatten_4[0][0]']              \n",
      "                                                                                                  \n",
      "==================================================================================================\n",
      "Total params: 109,836,290\n",
      "Trainable params: 354,050\n",
      "Non-trainable params: 109,482,240\n",
      "__________________________________________________________________________________________________\n",
      "None\n",
      "Epoch 1/10\n",
      "130/130 [==============================] - 592s 4s/step - loss: 0.3995 - accuracy: 0.8580\n",
      "Epoch 2/10\n",
      "130/130 [==============================] - 561s 4s/step - loss: 0.2267 - accuracy: 0.9214\n",
      "Epoch 3/10\n",
      "130/130 [==============================] - 544s 4s/step - loss: 0.2051 - accuracy: 0.9224\n",
      "Epoch 4/10\n",
      "130/130 [==============================] - 576s 4s/step - loss: 0.1903 - accuracy: 0.9289\n",
      "Epoch 5/10\n",
      "130/130 [==============================] - 531s 4s/step - loss: 0.1971 - accuracy: 0.9337\n",
      "Epoch 6/10\n",
      "130/130 [==============================] - 463s 4s/step - loss: 0.1634 - accuracy: 0.9434\n",
      "Epoch 7/10\n",
      "130/130 [==============================] - 507s 4s/step - loss: 0.1740 - accuracy: 0.9458\n",
      "Epoch 8/10\n",
      "130/130 [==============================] - 607s 5s/step - loss: 0.1722 - accuracy: 0.9405\n",
      "Epoch 9/10\n",
      "130/130 [==============================] - 527s 4s/step - loss: 0.1651 - accuracy: 0.9478\n",
      "Epoch 10/10\n",
      "130/130 [==============================] - 586s 5s/step - loss: 0.1380 - accuracy: 0.9521\n"
     ]
    }
   ],
   "source": [
    "model.train_dense_model(units=256)"
   ]
  },
  {
   "cell_type": "code",
   "execution_count": 95,
   "id": "9a10b86b",
   "metadata": {},
   "outputs": [
    {
     "name": "stdout",
     "output_type": "stream",
     "text": [
      "33/33 [==============================] - 137s 4s/step\n",
      "Accuracy -  0.9390715667311412\n",
      "Precision -  0.9895104895104895\n",
      "Recall -  0.9401993355481728\n"
     ]
    }
   ],
   "source": [
    "model.evaluate_model(model.bert_dense_model)"
   ]
  },
  {
   "cell_type": "code",
   "execution_count": 96,
   "id": "55f655d9",
   "metadata": {},
   "outputs": [
    {
     "name": "stderr",
     "output_type": "stream",
     "text": [
      "100%|██████████| 1/1 [00:00<00:00, 90.82it/s]\n"
     ]
    },
    {
     "name": "stdout",
     "output_type": "stream",
     "text": [
      "1/1 [==============================] - 0s 312ms/step\n",
      "SPAM\n"
     ]
    }
   ],
   "source": [
    "msg = \"Claim your $1000 Walmart gift card today! Limited time only!\"\n",
    "model.predict(msg)"
   ]
  },
  {
   "cell_type": "code",
   "execution_count": 97,
   "id": "70e68ce2",
   "metadata": {},
   "outputs": [
    {
     "name": "stdout",
     "output_type": "stream",
     "text": [
      "Model and Tokenizer saved to savedfiles---\n"
     ]
    }
   ],
   "source": [
    "model.save_files()"
   ]
  },
  {
   "cell_type": "code",
   "execution_count": 98,
   "id": "a1d48254",
   "metadata": {},
   "outputs": [
    {
     "name": "stderr",
     "output_type": "stream",
     "text": [
      "WARNING:absl:Found untraced functions such as _update_step_xla, embeddings_layer_call_fn, embeddings_layer_call_and_return_conditional_losses, encoder_layer_call_fn, encoder_layer_call_and_return_conditional_losses while saving (showing 5 of 421). These functions will not be directly callable after loading.\n"
     ]
    },
    {
     "name": "stdout",
     "output_type": "stream",
     "text": [
      "INFO:tensorflow:Assets written to: savedfiles/bert_dense_model\\assets\n"
     ]
    },
    {
     "name": "stderr",
     "output_type": "stream",
     "text": [
      "INFO:tensorflow:Assets written to: savedfiles/bert_dense_model\\assets\n"
     ]
    }
   ],
   "source": [
    "model.bert_dense_model.save(f'{model.savepath}/bert_dense_model')"
   ]
  },
  {
   "cell_type": "code",
   "execution_count": null,
   "id": "858b7548",
   "metadata": {},
   "outputs": [],
   "source": []
  }
 ],
 "metadata": {
  "kernelspec": {
   "display_name": "Python 3",
   "language": "python",
   "name": "python3"
  },
  "language_info": {
   "codemirror_mode": {
    "name": "ipython",
    "version": 3
   },
   "file_extension": ".py",
   "mimetype": "text/x-python",
   "name": "python",
   "nbconvert_exporter": "python",
   "pygments_lexer": "ipython3",
   "version": "3.9.23"
  }
 },
 "nbformat": 4,
 "nbformat_minor": 5
}
